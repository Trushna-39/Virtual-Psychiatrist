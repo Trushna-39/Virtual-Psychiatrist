{
 "cells": [
  {
   "cell_type": "markdown",
   "metadata": {},
   "source": [
    "#### Importing Packages"
   ]
  },
  {
   "cell_type": "code",
   "execution_count": 1,
   "metadata": {},
   "outputs": [],
   "source": [
    "import os\n",
    "import spacy\n",
    "import pandas as pd\n",
    "from tqdm.auto import tqdm"
   ]
  },
  {
   "cell_type": "markdown",
   "metadata": {},
   "source": [
    "##### Converting Books text to sentences"
   ]
  },
  {
   "cell_type": "code",
   "execution_count": 4,
   "metadata": {},
   "outputs": [],
   "source": [
    "from tqdm.auto import tqdm\n",
    "nlp = spacy.load(\"en_core_web_sm\", disable=[\"parser\", \"ner\"])\n",
    "\n",
    "if not nlp.has_pipe(\"sentencizer\"):\n",
    "    nlp.add_pipe(\"sentencizer\")\n",
    "    \n",
    "nlp.max_length = 150000  # Set max length limit\n",
    "chunk_size = 100000\n",
    "\n",
    "# Chunk number to start from\n",
    "start_chunk = 0\n",
    "current_chunk = 0\n",
    "cnt = 0\n",
    "# Process the text in chunks\n",
    "with open('Data/All_Books_Data.txt', encoding=\"utf-8\") as f:\n",
    "    # for chunk in tqdm(iterable=f, desc=\"Processing\", unit=\"chunk\"):\n",
    "    while True:\n",
    "        # print(current_chunk)\n",
    "        chunk = f.read(chunk_size)\n",
    "        # cnt += 1\n",
    "        # print(cnt)\n",
    "\n",
    "        # if cnt < start_chunk:\n",
    "        #     continue\n",
    "        if not chunk:\n",
    "            # print(cnt)\n",
    "            break\n",
    "        # Process the chunk using spaCy\n",
    "        doc = nlp(chunk)\n",
    "        # Tokenize each sentence in the chunk\n",
    "        for sentence in doc.sents:\n",
    "            # Write each sentence to the output file\n",
    "            with open('Data/All_text_sent.txt', \"a\", encoding=\"utf-8\") as output_f:  \n",
    "                output_f.write(sentence.text + \"\\n\")"
   ]
  },
  {
   "cell_type": "markdown",
   "metadata": {},
   "source": [
    "##### Merging books data with CSV data"
   ]
  },
  {
   "cell_type": "code",
   "execution_count": 2,
   "metadata": {},
   "outputs": [
    {
     "data": {
      "text/html": [
       "<div>\n",
       "<style scoped>\n",
       "    .dataframe tbody tr th:only-of-type {\n",
       "        vertical-align: middle;\n",
       "    }\n",
       "\n",
       "    .dataframe tbody tr th {\n",
       "        vertical-align: top;\n",
       "    }\n",
       "\n",
       "    .dataframe thead th {\n",
       "        text-align: right;\n",
       "    }\n",
       "</style>\n",
       "<table border=\"1\" class=\"dataframe\">\n",
       "  <thead>\n",
       "    <tr style=\"text-align: right;\">\n",
       "      <th></th>\n",
       "      <th>Unnamed: 0</th>\n",
       "      <th>Input</th>\n",
       "      <th>Response</th>\n",
       "      <th>Inputs_NER_removed</th>\n",
       "      <th>Response_NER_removed</th>\n",
       "    </tr>\n",
       "  </thead>\n",
       "  <tbody>\n",
       "    <tr>\n",
       "      <th>0</th>\n",
       "      <td>0</td>\n",
       "      <td>I've been feeling so sad and overwhelmed latel...</td>\n",
       "      <td>Hey there, I'm here to listen and support you....</td>\n",
       "      <td>I've been feeling so sad and overwhelmed latel...</td>\n",
       "      <td>Hey there, I'm here to listen and support you....</td>\n",
       "    </tr>\n",
       "    <tr>\n",
       "      <th>1</th>\n",
       "      <td>1</td>\n",
       "      <td>I recently got a promotion at work, which I th...</td>\n",
       "      <td>I can understand how it can be overwhelming wh...</td>\n",
       "      <td>I recently got a promotion at work, which I th...</td>\n",
       "      <td>I can understand how it can be overwhelming wh...</td>\n",
       "    </tr>\n",
       "    <tr>\n",
       "      <th>2</th>\n",
       "      <td>2</td>\n",
       "      <td>Well, the workload has increased significantly...</td>\n",
       "      <td>It sounds like you're dealing with a lot of pr...</td>\n",
       "      <td>Well, the workload has increased significantly...</td>\n",
       "      <td>It sounds like you're dealing with a lot of pr...</td>\n",
       "    </tr>\n",
       "    <tr>\n",
       "      <th>3</th>\n",
       "      <td>3</td>\n",
       "      <td>I've been trying to prioritize my tasks and de...</td>\n",
       "      <td>It's great to hear that you're already impleme...</td>\n",
       "      <td>I've been trying to prioritize my tasks and de...</td>\n",
       "      <td>It's great to hear that you're already impleme...</td>\n",
       "    </tr>\n",
       "    <tr>\n",
       "      <th>4</th>\n",
       "      <td>4</td>\n",
       "      <td>You're right. I haven't really opened up about...</td>\n",
       "      <td>It's completely normal to feel that way, but r...</td>\n",
       "      <td>You're right. I haven't really opened up about...</td>\n",
       "      <td>It's completely normal to feel that way, but r...</td>\n",
       "    </tr>\n",
       "  </tbody>\n",
       "</table>\n",
       "</div>"
      ],
      "text/plain": [
       "   Unnamed: 0                                              Input  \\\n",
       "0           0  I've been feeling so sad and overwhelmed latel...   \n",
       "1           1  I recently got a promotion at work, which I th...   \n",
       "2           2  Well, the workload has increased significantly...   \n",
       "3           3  I've been trying to prioritize my tasks and de...   \n",
       "4           4  You're right. I haven't really opened up about...   \n",
       "\n",
       "                                            Response  \\\n",
       "0  Hey there, I'm here to listen and support you....   \n",
       "1  I can understand how it can be overwhelming wh...   \n",
       "2  It sounds like you're dealing with a lot of pr...   \n",
       "3  It's great to hear that you're already impleme...   \n",
       "4  It's completely normal to feel that way, but r...   \n",
       "\n",
       "                                  Inputs_NER_removed  \\\n",
       "0  I've been feeling so sad and overwhelmed latel...   \n",
       "1  I recently got a promotion at work, which I th...   \n",
       "2  Well, the workload has increased significantly...   \n",
       "3  I've been trying to prioritize my tasks and de...   \n",
       "4  You're right. I haven't really opened up about...   \n",
       "\n",
       "                                Response_NER_removed  \n",
       "0  Hey there, I'm here to listen and support you....  \n",
       "1  I can understand how it can be overwhelming wh...  \n",
       "2  It sounds like you're dealing with a lot of pr...  \n",
       "3  It's great to hear that you're already impleme...  \n",
       "4  It's completely normal to feel that way, but r...  "
      ]
     },
     "execution_count": 2,
     "metadata": {},
     "output_type": "execute_result"
    }
   ],
   "source": [
    "df = pd.read_csv('Data/output_99k_ner_removed_all.csv')\n",
    "df.head()"
   ]
  },
  {
   "cell_type": "code",
   "execution_count": 3,
   "metadata": {},
   "outputs": [
    {
     "data": {
      "text/plain": [
       "\"You're most welcome. Remember, recovery is a journey, and it won't always be easy. But with perseverance and the right support, you can regain control of your life and rediscover your true identity, beyond addiction. I believe in you, and I'll be here every step of the way.\""
      ]
     },
     "execution_count": 3,
     "metadata": {},
     "output_type": "execute_result"
    }
   ],
   "source": [
    "df['Response_NER_removed'][30]"
   ]
  },
  {
   "cell_type": "code",
   "execution_count": 8,
   "metadata": {},
   "outputs": [
    {
     "data": {
      "application/vnd.jupyter.widget-view+json": {
       "model_id": "b246d987264b415b8881c138bd34a29f",
       "version_major": 2,
       "version_minor": 0
      },
      "text/plain": [
       "  0%|          | 0/807085 [00:00<?, ?it/s]"
      ]
     },
     "metadata": {},
     "output_type": "display_data"
    }
   ],
   "source": [
    "str1 = ['\\n', '‘', '’' ,' ','!','\"','&',\"'\",'(',')',',','-', '.', ':', ';', '?', '[', ']', '_', 'a', 'b', 'c', 'd', 'e', 'f', 'g', 'h', 'i', 'j', 'k', 'l', 'm', 'n', 'o', 'p', 'q', 'r', 's', 't', 'u', 'v', 'w', 'x', 'y', 'z']\n",
    "\n",
    "out = open('Data/All_text_sent.txt', \"a\", encoding=\"utf-8\")\n",
    "\n",
    "for sent in tqdm(df['Response_NER_removed']):\n",
    "    sent = sent.lower()\n",
    "    cleaned_text = ''.join(char for char in sent if char in str1)\n",
    "    out.write(cleaned_text + '\\n')"
   ]
  },
  {
   "cell_type": "code",
   "execution_count": 9,
   "metadata": {},
   "outputs": [],
   "source": [
    "out.close()"
   ]
  },
  {
   "cell_type": "markdown",
   "metadata": {},
   "source": [
    "##### Cleaning new text file"
   ]
  },
  {
   "cell_type": "code",
   "execution_count": 12,
   "metadata": {},
   "outputs": [],
   "source": [
    "# Open the input and output files\n",
    "with open(\"Data/All_text_sent_cleaned.txt\", \"r\") as input_file, open(\"Data/All_text_sent_cleaned_new.txt\", \"w\") as output_file:\n",
    "    # Iterate through each line in the input file\n",
    "    for line in input_file:\n",
    "        # Remove leading occurrences of \", \"\n",
    "        line = line.lstrip(', ')\n",
    "\n",
    "        line = line.rstrip(' )')\n",
    "\n",
    "        # Replace \" ,\" with \",\"\n",
    "        line = line.replace(\" ,\", \",\")\n",
    "        \n",
    "        # Replace \" , .\" with \".\"\n",
    "        line = line.replace(\", .\", \".\")\n",
    "\n",
    "        line = line.replace(\" .\", \".\")\n",
    "\n",
    "        line = line.replace(', !', '!')\n",
    "\n",
    "        line = line.replace(',,', ',')\n",
    "        \n",
    "        # Write the modified line to the output file\n",
    "        output_file.write(line)\n"
   ]
  },
  {
   "cell_type": "code",
   "execution_count": null,
   "metadata": {},
   "outputs": [],
   "source": []
  }
 ],
 "metadata": {
  "kernelspec": {
   "display_name": "Pytorch2.0",
   "language": "python",
   "name": "python3"
  },
  "language_info": {
   "codemirror_mode": {
    "name": "ipython",
    "version": 3
   },
   "file_extension": ".py",
   "mimetype": "text/x-python",
   "name": "python",
   "nbconvert_exporter": "python",
   "pygments_lexer": "ipython3",
   "version": "3.10.13"
  }
 },
 "nbformat": 4,
 "nbformat_minor": 2
}
