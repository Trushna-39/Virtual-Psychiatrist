{
 "cells": [
  {
   "cell_type": "code",
   "execution_count": 20,
   "id": "596ff263",
   "metadata": {},
   "outputs": [],
   "source": [
    "import pandas as pd\n",
    "import time"
   ]
  },
  {
   "cell_type": "code",
   "execution_count": 21,
   "id": "3acad3b1",
   "metadata": {},
   "outputs": [
    {
     "data": {
      "text/html": [
       "<div>\n",
       "<style scoped>\n",
       "    .dataframe tbody tr th:only-of-type {\n",
       "        vertical-align: middle;\n",
       "    }\n",
       "\n",
       "    .dataframe tbody tr th {\n",
       "        vertical-align: top;\n",
       "    }\n",
       "\n",
       "    .dataframe thead th {\n",
       "        text-align: right;\n",
       "    }\n",
       "</style>\n",
       "<table border=\"1\" class=\"dataframe\">\n",
       "  <thead>\n",
       "    <tr style=\"text-align: right;\">\n",
       "      <th></th>\n",
       "      <th>Questions</th>\n",
       "      <th>Answers</th>\n",
       "    </tr>\n",
       "  </thead>\n",
       "  <tbody>\n",
       "    <tr>\n",
       "      <th>0</th>\n",
       "      <td>I've been feeling so sad and overwhelmed latel...</td>\n",
       "      <td>Hey there, I'm here to listen and support you....</td>\n",
       "    </tr>\n",
       "    <tr>\n",
       "      <th>1</th>\n",
       "      <td>I recently got a promotion at work, which I th...</td>\n",
       "      <td>I can understand how it can be overwhelming wh...</td>\n",
       "    </tr>\n",
       "    <tr>\n",
       "      <th>2</th>\n",
       "      <td>Well, the workload has increased significantly...</td>\n",
       "      <td>It sounds like you're dealing with a lot of pr...</td>\n",
       "    </tr>\n",
       "    <tr>\n",
       "      <th>3</th>\n",
       "      <td>I've been trying to prioritize my tasks and de...</td>\n",
       "      <td>It's great to hear that you're already impleme...</td>\n",
       "    </tr>\n",
       "    <tr>\n",
       "      <th>4</th>\n",
       "      <td>You're right. I haven't really opened up about...</td>\n",
       "      <td>It's completely normal to feel that way, but r...</td>\n",
       "    </tr>\n",
       "    <tr>\n",
       "      <th>...</th>\n",
       "      <td>...</td>\n",
       "      <td>...</td>\n",
       "    </tr>\n",
       "    <tr>\n",
       "      <th>9995</th>\n",
       "      <td>I've thought about it, but I'm unsure if thera...</td>\n",
       "      <td>Therapy provides a space for exploration, unde...</td>\n",
       "    </tr>\n",
       "    <tr>\n",
       "      <th>9996</th>\n",
       "      <td>I guess I can give it a chance. I do want to f...</td>\n",
       "      <td>There's no set timeline for healing, as everyo...</td>\n",
       "    </tr>\n",
       "    <tr>\n",
       "      <th>9997</th>\n",
       "      <td>I am willing to commit. I want to heal and mov...</td>\n",
       "      <td>Charlie, it means a lot to me that you're will...</td>\n",
       "    </tr>\n",
       "    <tr>\n",
       "      <th>9998</th>\n",
       "      <td>Not right now, Alex. I appreciate your support...</td>\n",
       "      <td>You're most welcome, Charlie. Remember, I'm he...</td>\n",
       "    </tr>\n",
       "    <tr>\n",
       "      <th>9999</th>\n",
       "      <td>Hi Alex, I hope you're doing well today. I wan...</td>\n",
       "      <td>Hello Charlie, I'm glad you reached out. It ta...</td>\n",
       "    </tr>\n",
       "  </tbody>\n",
       "</table>\n",
       "<p>10000 rows × 2 columns</p>\n",
       "</div>"
      ],
      "text/plain": [
       "                                              Questions  \\\n",
       "0     I've been feeling so sad and overwhelmed latel...   \n",
       "1     I recently got a promotion at work, which I th...   \n",
       "2     Well, the workload has increased significantly...   \n",
       "3     I've been trying to prioritize my tasks and de...   \n",
       "4     You're right. I haven't really opened up about...   \n",
       "...                                                 ...   \n",
       "9995  I've thought about it, but I'm unsure if thera...   \n",
       "9996  I guess I can give it a chance. I do want to f...   \n",
       "9997  I am willing to commit. I want to heal and mov...   \n",
       "9998  Not right now, Alex. I appreciate your support...   \n",
       "9999  Hi Alex, I hope you're doing well today. I wan...   \n",
       "\n",
       "                                                Answers  \n",
       "0     Hey there, I'm here to listen and support you....  \n",
       "1     I can understand how it can be overwhelming wh...  \n",
       "2     It sounds like you're dealing with a lot of pr...  \n",
       "3     It's great to hear that you're already impleme...  \n",
       "4     It's completely normal to feel that way, but r...  \n",
       "...                                                 ...  \n",
       "9995  Therapy provides a space for exploration, unde...  \n",
       "9996  There's no set timeline for healing, as everyo...  \n",
       "9997  Charlie, it means a lot to me that you're will...  \n",
       "9998  You're most welcome, Charlie. Remember, I'm he...  \n",
       "9999  Hello Charlie, I'm glad you reached out. It ta...  \n",
       "\n",
       "[10000 rows x 2 columns]"
      ]
     },
     "execution_count": 21,
     "metadata": {},
     "output_type": "execute_result"
    }
   ],
   "source": [
    "\n",
    "\n",
    "df = pd.read_csv('./Devided_Data/Devided_Data/chunk_0.csv')\n",
    "df"
   ]
  },
  {
   "cell_type": "code",
   "execution_count": 5,
   "id": "21afdc6a",
   "metadata": {},
   "outputs": [
    {
     "data": {
      "text/plain": [
       "\"Charlie, it means a lot to me that you're willing to take this step and trust in the process. I'll be here every step of the way, supporting you in your healing journey. Remember, you are not alone in this. We will work together to find strength and resilience within yourself. Is there anything else on your mind that you'd like to share?\""
      ]
     },
     "execution_count": 5,
     "metadata": {},
     "output_type": "execute_result"
    }
   ],
   "source": [
    "df.iloc[9997].Answers"
   ]
  },
  {
   "cell_type": "code",
   "execution_count": null,
   "id": "1e6f959c",
   "metadata": {},
   "outputs": [],
   "source": []
  },
  {
   "cell_type": "code",
   "execution_count": 23,
   "id": "f9965d87",
   "metadata": {},
   "outputs": [],
   "source": [
    "\n",
    "import spacy\n",
    "\n",
    "# Load spaCy model\n",
    "nlp = spacy.load('en_core_web_sm')\n",
    "\n",
    "\n",
    "# Function to replace names in a sentence with a placeholder\n",
    "def replace_names(text):\n",
    "    doc = nlp(text)\n",
    "    replaced_text = []\n",
    "    for token in doc:\n",
    "        if token.ent_type_ == 'PERSON':\n",
    "            continue\n",
    "        else:\n",
    "            replaced_text.append(token.text)\n",
    "    return ' '.join(replaced_text)\n",
    "\n",
    "\n",
    "\n"
   ]
  },
  {
   "cell_type": "code",
   "execution_count": 24,
   "id": "a539d9af",
   "metadata": {},
   "outputs": [
    {
     "data": {
      "text/plain": [
       "\"Hi Alex, I hope you're doing well today. I wanted to talk about something that has been on my mind lately. I've been feeling a lot of conflicting emotions and I want to explore them further.\""
      ]
     },
     "execution_count": 24,
     "metadata": {},
     "output_type": "execute_result"
    }
   ],
   "source": [
    "df.iloc[9999].Questions"
   ]
  },
  {
   "cell_type": "code",
   "execution_count": 25,
   "id": "9d265609",
   "metadata": {},
   "outputs": [
    {
     "data": {
      "text/plain": [
       "\"Hi Alex , I hope you 're doing well today . I wanted to talk about something that has been on my mind lately . I 've been feeling a lot of conflicting emotions and I want to explore them further .\""
      ]
     },
     "execution_count": 25,
     "metadata": {},
     "output_type": "execute_result"
    }
   ],
   "source": [
    "\n",
    "a_test = replace_names(df.iloc[9999].Questions)\n",
    "a_test"
   ]
  },
  {
   "cell_type": "code",
   "execution_count": 19,
   "id": "155a0573",
   "metadata": {},
   "outputs": [
    {
     "data": {
      "text/html": [
       "<div>\n",
       "<style scoped>\n",
       "    .dataframe tbody tr th:only-of-type {\n",
       "        vertical-align: middle;\n",
       "    }\n",
       "\n",
       "    .dataframe tbody tr th {\n",
       "        vertical-align: top;\n",
       "    }\n",
       "\n",
       "    .dataframe thead th {\n",
       "        text-align: right;\n",
       "    }\n",
       "</style>\n",
       "<table border=\"1\" class=\"dataframe\">\n",
       "  <thead>\n",
       "    <tr style=\"text-align: right;\">\n",
       "      <th></th>\n",
       "      <th>Questions</th>\n",
       "      <th>Answers</th>\n",
       "      <th>Questions_1</th>\n",
       "    </tr>\n",
       "  </thead>\n",
       "  <tbody>\n",
       "    <tr>\n",
       "      <th>0</th>\n",
       "      <td>I've been feeling so sad and overwhelmed latel...</td>\n",
       "      <td>Hey there, I'm here to listen and support you....</td>\n",
       "      <td>I 've been feeling so sad and overwhelmed late...</td>\n",
       "    </tr>\n",
       "    <tr>\n",
       "      <th>1</th>\n",
       "      <td>I recently got a promotion at work, which I th...</td>\n",
       "      <td>I can understand how it can be overwhelming wh...</td>\n",
       "      <td>I recently got a promotion at work , which I t...</td>\n",
       "    </tr>\n",
       "    <tr>\n",
       "      <th>2</th>\n",
       "      <td>Well, the workload has increased significantly...</td>\n",
       "      <td>It sounds like you're dealing with a lot of pr...</td>\n",
       "      <td>Well , the workload has increased significantl...</td>\n",
       "    </tr>\n",
       "    <tr>\n",
       "      <th>3</th>\n",
       "      <td>I've been trying to prioritize my tasks and de...</td>\n",
       "      <td>It's great to hear that you're already impleme...</td>\n",
       "      <td>I 've been trying to prioritize my tasks and d...</td>\n",
       "    </tr>\n",
       "    <tr>\n",
       "      <th>4</th>\n",
       "      <td>You're right. I haven't really opened up about...</td>\n",
       "      <td>It's completely normal to feel that way, but r...</td>\n",
       "      <td>You 're right . I have n't really opened up ab...</td>\n",
       "    </tr>\n",
       "    <tr>\n",
       "      <th>...</th>\n",
       "      <td>...</td>\n",
       "      <td>...</td>\n",
       "      <td>...</td>\n",
       "    </tr>\n",
       "    <tr>\n",
       "      <th>9995</th>\n",
       "      <td>I've thought about it, but I'm unsure if thera...</td>\n",
       "      <td>Therapy provides a space for exploration, unde...</td>\n",
       "      <td>I 've thought about it , but I 'm unsure if th...</td>\n",
       "    </tr>\n",
       "    <tr>\n",
       "      <th>9996</th>\n",
       "      <td>I guess I can give it a chance. I do want to f...</td>\n",
       "      <td>There's no set timeline for healing, as everyo...</td>\n",
       "      <td>I guess I can give it a chance . I do want to ...</td>\n",
       "    </tr>\n",
       "    <tr>\n",
       "      <th>9997</th>\n",
       "      <td>I am willing to commit. I want to heal and mov...</td>\n",
       "      <td>Charlie, it means a lot to me that you're will...</td>\n",
       "      <td>I am willing to commit . I want to heal and mo...</td>\n",
       "    </tr>\n",
       "    <tr>\n",
       "      <th>9998</th>\n",
       "      <td>Not right now, Alex. I appreciate your support...</td>\n",
       "      <td>You're most welcome, Charlie. Remember, I'm he...</td>\n",
       "      <td>Not right now , . I appreciate your support an...</td>\n",
       "    </tr>\n",
       "    <tr>\n",
       "      <th>9999</th>\n",
       "      <td>Hi Alex, I hope you're doing well today. I wan...</td>\n",
       "      <td>Hello Charlie, I'm glad you reached out. It ta...</td>\n",
       "      <td>Hi Alex , I hope you 're doing well today . I ...</td>\n",
       "    </tr>\n",
       "  </tbody>\n",
       "</table>\n",
       "<p>10000 rows × 3 columns</p>\n",
       "</div>"
      ],
      "text/plain": [
       "                                              Questions  \\\n",
       "0     I've been feeling so sad and overwhelmed latel...   \n",
       "1     I recently got a promotion at work, which I th...   \n",
       "2     Well, the workload has increased significantly...   \n",
       "3     I've been trying to prioritize my tasks and de...   \n",
       "4     You're right. I haven't really opened up about...   \n",
       "...                                                 ...   \n",
       "9995  I've thought about it, but I'm unsure if thera...   \n",
       "9996  I guess I can give it a chance. I do want to f...   \n",
       "9997  I am willing to commit. I want to heal and mov...   \n",
       "9998  Not right now, Alex. I appreciate your support...   \n",
       "9999  Hi Alex, I hope you're doing well today. I wan...   \n",
       "\n",
       "                                                Answers  \\\n",
       "0     Hey there, I'm here to listen and support you....   \n",
       "1     I can understand how it can be overwhelming wh...   \n",
       "2     It sounds like you're dealing with a lot of pr...   \n",
       "3     It's great to hear that you're already impleme...   \n",
       "4     It's completely normal to feel that way, but r...   \n",
       "...                                                 ...   \n",
       "9995  Therapy provides a space for exploration, unde...   \n",
       "9996  There's no set timeline for healing, as everyo...   \n",
       "9997  Charlie, it means a lot to me that you're will...   \n",
       "9998  You're most welcome, Charlie. Remember, I'm he...   \n",
       "9999  Hello Charlie, I'm glad you reached out. It ta...   \n",
       "\n",
       "                                            Questions_1  \n",
       "0     I 've been feeling so sad and overwhelmed late...  \n",
       "1     I recently got a promotion at work , which I t...  \n",
       "2     Well , the workload has increased significantl...  \n",
       "3     I 've been trying to prioritize my tasks and d...  \n",
       "4     You 're right . I have n't really opened up ab...  \n",
       "...                                                 ...  \n",
       "9995  I 've thought about it , but I 'm unsure if th...  \n",
       "9996  I guess I can give it a chance . I do want to ...  \n",
       "9997  I am willing to commit . I want to heal and mo...  \n",
       "9998  Not right now , . I appreciate your support an...  \n",
       "9999  Hi Alex , I hope you 're doing well today . I ...  \n",
       "\n",
       "[10000 rows x 3 columns]"
      ]
     },
     "execution_count": 19,
     "metadata": {},
     "output_type": "execute_result"
    }
   ],
   "source": [
    "df"
   ]
  },
  {
   "cell_type": "code",
   "execution_count": 10,
   "id": "dd203af0",
   "metadata": {},
   "outputs": [
    {
     "name": "stdout",
     "output_type": "stream",
     "text": [
      "[{'entity': 'LABEL_1', 'score': 0.9401577, 'index': 1, 'word': 'Charlie', 'start': 0, 'end': 7}, {'entity': 'LABEL_0', 'score': 0.999424, 'index': 2, 'word': ',', 'start': 7, 'end': 8}, {'entity': 'LABEL_0', 'score': 0.99973065, 'index': 3, 'word': 'it', 'start': 9, 'end': 11}, {'entity': 'LABEL_0', 'score': 0.99983263, 'index': 4, 'word': 'means', 'start': 12, 'end': 17}, {'entity': 'LABEL_0', 'score': 0.9998393, 'index': 5, 'word': 'a', 'start': 18, 'end': 19}, {'entity': 'LABEL_0', 'score': 0.99982256, 'index': 6, 'word': 'lot', 'start': 20, 'end': 23}, {'entity': 'LABEL_0', 'score': 0.9997042, 'index': 7, 'word': 'to', 'start': 24, 'end': 26}, {'entity': 'LABEL_0', 'score': 0.9997118, 'index': 8, 'word': 'me', 'start': 27, 'end': 29}, {'entity': 'LABEL_0', 'score': 0.9998005, 'index': 9, 'word': 'that', 'start': 30, 'end': 34}, {'entity': 'LABEL_0', 'score': 0.9994222, 'index': 10, 'word': 'you', 'start': 35, 'end': 38}, {'entity': 'LABEL_0', 'score': 0.9996846, 'index': 11, 'word': \"'\", 'start': 38, 'end': 39}, {'entity': 'LABEL_0', 'score': 0.9995419, 'index': 12, 'word': 're', 'start': 39, 'end': 41}, {'entity': 'LABEL_1', 'score': 0.9605863, 'index': 13, 'word': 'Alex', 'start': 42, 'end': 46}, {'entity': 'LABEL_0', 'score': 0.9997049, 'index': 14, 'word': 'willing', 'start': 47, 'end': 54}, {'entity': 'LABEL_0', 'score': 0.9998516, 'index': 15, 'word': 'to', 'start': 55, 'end': 57}, {'entity': 'LABEL_0', 'score': 0.9998425, 'index': 16, 'word': 'take', 'start': 58, 'end': 62}, {'entity': 'LABEL_0', 'score': 0.9998337, 'index': 17, 'word': 'this', 'start': 63, 'end': 67}, {'entity': 'LABEL_0', 'score': 0.9998293, 'index': 18, 'word': 'step', 'start': 68, 'end': 72}, {'entity': 'LABEL_0', 'score': 0.9998282, 'index': 19, 'word': 'and', 'start': 73, 'end': 76}, {'entity': 'LABEL_0', 'score': 0.99981946, 'index': 20, 'word': 'trust', 'start': 77, 'end': 82}, {'entity': 'LABEL_1', 'score': 0.9951121, 'index': 21, 'word': 'K', 'start': 83, 'end': 84}, {'entity': 'LABEL_1', 'score': 0.9969393, 'index': 22, 'word': '##rina', 'start': 84, 'end': 88}, {'entity': 'LABEL_0', 'score': 0.99982834, 'index': 23, 'word': 'in', 'start': 89, 'end': 91}, {'entity': 'LABEL_0', 'score': 0.99982625, 'index': 24, 'word': 'the', 'start': 92, 'end': 95}, {'entity': 'LABEL_0', 'score': 0.9998233, 'index': 25, 'word': 'process', 'start': 96, 'end': 103}, {'entity': 'LABEL_0', 'score': 0.9998443, 'index': 26, 'word': '.', 'start': 103, 'end': 104}, {'entity': 'LABEL_0', 'score': 0.9997737, 'index': 27, 'word': 'I', 'start': 105, 'end': 106}, {'entity': 'LABEL_0', 'score': 0.99982375, 'index': 28, 'word': \"'\", 'start': 106, 'end': 107}, {'entity': 'LABEL_0', 'score': 0.9998342, 'index': 29, 'word': 'll', 'start': 107, 'end': 109}, {'entity': 'LABEL_0', 'score': 0.9998385, 'index': 30, 'word': 'be', 'start': 110, 'end': 112}, {'entity': 'LABEL_0', 'score': 0.99986255, 'index': 31, 'word': 'here', 'start': 113, 'end': 117}, {'entity': 'LABEL_0', 'score': 0.99983716, 'index': 32, 'word': 'every', 'start': 118, 'end': 123}, {'entity': 'LABEL_0', 'score': 0.99975985, 'index': 33, 'word': 'step', 'start': 124, 'end': 128}, {'entity': 'LABEL_0', 'score': 0.99969685, 'index': 34, 'word': 'of', 'start': 129, 'end': 131}, {'entity': 'LABEL_0', 'score': 0.99957806, 'index': 35, 'word': 'the', 'start': 132, 'end': 135}, {'entity': 'LABEL_7', 'score': 0.5873766, 'index': 36, 'word': 'Toronto', 'start': 136, 'end': 143}, {'entity': 'LABEL_0', 'score': 0.8775886, 'index': 37, 'word': 'way', 'start': 144, 'end': 147}, {'entity': 'LABEL_0', 'score': 0.95857525, 'index': 38, 'word': 'to', 'start': 148, 'end': 150}, {'entity': 'LABEL_5', 'score': 0.9086502, 'index': 39, 'word': '##ron', 'start': 150, 'end': 153}, {'entity': 'LABEL_5', 'score': 0.8613367, 'index': 40, 'word': '##to', 'start': 153, 'end': 155}, {'entity': 'LABEL_0', 'score': 0.99978477, 'index': 41, 'word': ',', 'start': 155, 'end': 156}, {'entity': 'LABEL_0', 'score': 0.99978274, 'index': 42, 'word': 'supporting', 'start': 157, 'end': 167}, {'entity': 'LABEL_0', 'score': 0.99967694, 'index': 43, 'word': 'you', 'start': 168, 'end': 171}, {'entity': 'LABEL_0', 'score': 0.9997943, 'index': 44, 'word': 'in', 'start': 172, 'end': 174}, {'entity': 'LABEL_0', 'score': 0.99982303, 'index': 45, 'word': 'your', 'start': 175, 'end': 179}, {'entity': 'LABEL_0', 'score': 0.9997671, 'index': 46, 'word': 'healing', 'start': 180, 'end': 187}, {'entity': 'LABEL_0', 'score': 0.9998184, 'index': 47, 'word': 'journey', 'start': 188, 'end': 195}, {'entity': 'LABEL_0', 'score': 0.99984133, 'index': 48, 'word': '.', 'start': 195, 'end': 196}, {'entity': 'LABEL_0', 'score': 0.9990729, 'index': 49, 'word': 'Remember', 'start': 197, 'end': 205}, {'entity': 'LABEL_0', 'score': 0.99981385, 'index': 50, 'word': ',', 'start': 205, 'end': 206}, {'entity': 'LABEL_0', 'score': 0.9997477, 'index': 51, 'word': 'you', 'start': 207, 'end': 210}, {'entity': 'LABEL_0', 'score': 0.99985147, 'index': 52, 'word': 'are', 'start': 211, 'end': 214}, {'entity': 'LABEL_0', 'score': 0.99985147, 'index': 53, 'word': 'not', 'start': 215, 'end': 218}, {'entity': 'LABEL_0', 'score': 0.9998443, 'index': 54, 'word': 'alone', 'start': 219, 'end': 224}, {'entity': 'LABEL_0', 'score': 0.99983656, 'index': 55, 'word': 'in', 'start': 225, 'end': 227}, {'entity': 'LABEL_0', 'score': 0.9998264, 'index': 56, 'word': 'this', 'start': 228, 'end': 232}, {'entity': 'LABEL_0', 'score': 0.9998578, 'index': 57, 'word': '.', 'start': 232, 'end': 233}, {'entity': 'LABEL_0', 'score': 0.9997992, 'index': 58, 'word': 'We', 'start': 234, 'end': 236}, {'entity': 'LABEL_0', 'score': 0.99984944, 'index': 59, 'word': 'will', 'start': 237, 'end': 241}, {'entity': 'LABEL_0', 'score': 0.9998253, 'index': 60, 'word': 'work', 'start': 242, 'end': 246}, {'entity': 'LABEL_0', 'score': 0.9998197, 'index': 61, 'word': 'together', 'start': 247, 'end': 255}, {'entity': 'LABEL_0', 'score': 0.99984646, 'index': 62, 'word': 'to', 'start': 256, 'end': 258}, {'entity': 'LABEL_0', 'score': 0.99981624, 'index': 63, 'word': 'find', 'start': 259, 'end': 263}, {'entity': 'LABEL_0', 'score': 0.99983466, 'index': 64, 'word': 'strength', 'start': 264, 'end': 272}, {'entity': 'LABEL_0', 'score': 0.9998141, 'index': 65, 'word': 'and', 'start': 273, 'end': 276}, {'entity': 'LABEL_0', 'score': 0.9998086, 'index': 66, 'word': 're', 'start': 277, 'end': 279}, {'entity': 'LABEL_0', 'score': 0.99982554, 'index': 67, 'word': '##si', 'start': 279, 'end': 281}, {'entity': 'LABEL_0', 'score': 0.9997776, 'index': 68, 'word': '##lie', 'start': 281, 'end': 284}, {'entity': 'LABEL_0', 'score': 0.999806, 'index': 69, 'word': '##nce', 'start': 284, 'end': 287}, {'entity': 'LABEL_0', 'score': 0.9998068, 'index': 70, 'word': 'within', 'start': 288, 'end': 294}, {'entity': 'LABEL_0', 'score': 0.9998047, 'index': 71, 'word': 'yourself', 'start': 295, 'end': 303}, {'entity': 'LABEL_0', 'score': 0.9998565, 'index': 72, 'word': '.', 'start': 303, 'end': 304}, {'entity': 'LABEL_0', 'score': 0.99984443, 'index': 73, 'word': 'Is', 'start': 305, 'end': 307}, {'entity': 'LABEL_0', 'score': 0.9998247, 'index': 74, 'word': 'there', 'start': 308, 'end': 313}, {'entity': 'LABEL_0', 'score': 0.99985266, 'index': 75, 'word': 'anything', 'start': 314, 'end': 322}, {'entity': 'LABEL_0', 'score': 0.99985075, 'index': 76, 'word': 'else', 'start': 323, 'end': 327}, {'entity': 'LABEL_0', 'score': 0.999775, 'index': 77, 'word': 'on', 'start': 328, 'end': 330}, {'entity': 'LABEL_0', 'score': 0.9998061, 'index': 78, 'word': 'your', 'start': 331, 'end': 335}, {'entity': 'LABEL_0', 'score': 0.999826, 'index': 79, 'word': 'mind', 'start': 336, 'end': 340}, {'entity': 'LABEL_0', 'score': 0.9998467, 'index': 80, 'word': 'that', 'start': 341, 'end': 345}, {'entity': 'LABEL_0', 'score': 0.99979144, 'index': 81, 'word': 'you', 'start': 346, 'end': 349}, {'entity': 'LABEL_0', 'score': 0.9998104, 'index': 82, 'word': \"'\", 'start': 349, 'end': 350}, {'entity': 'LABEL_0', 'score': 0.999785, 'index': 83, 'word': 'd', 'start': 350, 'end': 351}, {'entity': 'LABEL_0', 'score': 0.9998012, 'index': 84, 'word': 'like', 'start': 352, 'end': 356}, {'entity': 'LABEL_0', 'score': 0.9998603, 'index': 85, 'word': 'to', 'start': 357, 'end': 359}, {'entity': 'LABEL_0', 'score': 0.9998504, 'index': 86, 'word': 'share', 'start': 360, 'end': 365}, {'entity': 'LABEL_0', 'score': 0.99984074, 'index': 87, 'word': '?', 'start': 365, 'end': 366}]\n",
      "       tht     tke   n  r      he     Tor wy r supportg   r helg  Remr    le    wi  ger  f stngth n silience wh rself s  nythg   r m tht    sh\n"
     ]
    }
   ],
   "source": [
    "from transformers import AutoTokenizer, AutoModelForTokenClassification\n",
    "from transformers import pipeline\n",
    "\n",
    "tokenizer = AutoTokenizer.from_pretrained(\"dslim/distilbert-NER\")\n",
    "model = AutoModelForTokenClassification.from_pretrained(\"dslim/distilbert-NER\")\n",
    "\n",
    "nlp = pipeline(\"ner\", model=model, tokenizer=tokenizer)\n",
    "text = \"Charlie, it means a lot to me that you're Alex willing to take this step and trust Krina in the process. I'll be here every step of the Toronto way toronto, supporting you in your healing journey. Remember, you are not alone in this. We will work together to find strength and resilience within yourself. Is there anything else on your mind that you'd like to share?\"\n",
    "ner_results = nlp(text)\n",
    "print(ner_results)\n",
    "cleaned_text = text\n",
    "for entity in ner_results:\n",
    "    cleaned_text = cleaned_text.replace(entity['word'], '')\n",
    "\n",
    "print(cleaned_text)\n"
   ]
  },
  {
   "cell_type": "code",
   "execution_count": 26,
   "id": "4e1c1c93",
   "metadata": {},
   "outputs": [],
   "source": [
    "def remove_ner(text, model):\n",
    "    named_entities = model(text)\n",
    "    print(named_entities)\n",
    "    cleaned_text = text\n",
    "    for entity in named_entities:\n",
    "        if entity['entity'] != 'LABEL_0':\n",
    "            cleaned_text = cleaned_text.replace(entity['word'], '')\n",
    "    return cleaned_text\n"
   ]
  },
  {
   "cell_type": "code",
   "execution_count": 28,
   "id": "2cb0738c",
   "metadata": {},
   "outputs": [
    {
     "name": "stdout",
     "output_type": "stream",
     "text": [
      "<transformers.pipelines.token_classification.TokenClassificationPipeline object at 0x0000013D908257C8>\n",
      "[{'entity': 'LABEL_0', 'score': 0.9988348, 'index': 1, 'word': 'I', 'start': 0, 'end': 1}, {'entity': 'LABEL_0', 'score': 0.9998599, 'index': 2, 'word': 'believe', 'start': 2, 'end': 9}, {'entity': 'LABEL_0', 'score': 0.9998634, 'index': 3, 'word': 'self', 'start': 10, 'end': 14}, {'entity': 'LABEL_0', 'score': 0.99983144, 'index': 4, 'word': '-', 'start': 14, 'end': 15}, {'entity': 'LABEL_0', 'score': 0.9998523, 'index': 5, 'word': 'care', 'start': 15, 'end': 19}, {'entity': 'LABEL_0', 'score': 0.9998671, 'index': 6, 'word': 'goes', 'start': 20, 'end': 24}, {'entity': 'LABEL_0', 'score': 0.99982953, 'index': 7, 'word': 'beyond', 'start': 25, 'end': 31}, {'entity': 'LABEL_0', 'score': 0.99986744, 'index': 8, 'word': 'bubble', 'start': 32, 'end': 38}, {'entity': 'LABEL_0', 'score': 0.99981755, 'index': 9, 'word': 'baths', 'start': 39, 'end': 44}, {'entity': 'LABEL_0', 'score': 0.99983895, 'index': 10, 'word': 'and', 'start': 45, 'end': 48}, {'entity': 'LABEL_0', 'score': 0.99982446, 'index': 11, 'word': 'massage', 'start': 49, 'end': 56}, {'entity': 'LABEL_0', 'score': 0.9998319, 'index': 12, 'word': '##s', 'start': 56, 'end': 57}, {'entity': 'LABEL_0', 'score': 0.9997743, 'index': 13, 'word': ',', 'start': 57, 'end': 58}, {'entity': 'LABEL_0', 'score': 0.4395529, 'index': 14, 'word': 'Alex', 'start': 59, 'end': 63}, {'entity': 'LABEL_0', 'score': 0.999686, 'index': 15, 'word': '.', 'start': 63, 'end': 64}, {'entity': 'LABEL_0', 'score': 0.99985313, 'index': 16, 'word': 'It', 'start': 65, 'end': 67}, {'entity': 'LABEL_0', 'score': 0.99985397, 'index': 17, 'word': \"'\", 'start': 67, 'end': 68}, {'entity': 'LABEL_0', 'score': 0.99985826, 'index': 18, 'word': 's', 'start': 68, 'end': 69}, {'entity': 'LABEL_0', 'score': 0.9998714, 'index': 19, 'word': 'about', 'start': 70, 'end': 75}, {'entity': 'LABEL_0', 'score': 0.9998809, 'index': 20, 'word': 'honoring', 'start': 76, 'end': 84}, {'entity': 'LABEL_0', 'score': 0.99985635, 'index': 21, 'word': 'my', 'start': 85, 'end': 87}, {'entity': 'LABEL_0', 'score': 0.9998623, 'index': 22, 'word': 'needs', 'start': 88, 'end': 93}, {'entity': 'LABEL_0', 'score': 0.9998741, 'index': 23, 'word': ',', 'start': 93, 'end': 94}, {'entity': 'LABEL_0', 'score': 0.9998766, 'index': 24, 'word': 'saying', 'start': 95, 'end': 101}, {'entity': 'LABEL_0', 'score': 0.9998708, 'index': 25, 'word': 'no', 'start': 102, 'end': 104}, {'entity': 'LABEL_0', 'score': 0.99985707, 'index': 26, 'word': 'when', 'start': 105, 'end': 109}, {'entity': 'LABEL_0', 'score': 0.99986565, 'index': 27, 'word': 'necessary', 'start': 110, 'end': 119}, {'entity': 'LABEL_0', 'score': 0.99986446, 'index': 28, 'word': ',', 'start': 119, 'end': 120}, {'entity': 'LABEL_0', 'score': 0.9998714, 'index': 29, 'word': 'and', 'start': 121, 'end': 124}, {'entity': 'LABEL_0', 'score': 0.9998467, 'index': 30, 'word': 'prior', 'start': 125, 'end': 130}, {'entity': 'LABEL_0', 'score': 0.9998363, 'index': 31, 'word': '##iti', 'start': 130, 'end': 133}, {'entity': 'LABEL_0', 'score': 0.9998814, 'index': 32, 'word': '##zing', 'start': 133, 'end': 137}, {'entity': 'LABEL_0', 'score': 0.9998739, 'index': 33, 'word': 'activities', 'start': 138, 'end': 148}, {'entity': 'LABEL_0', 'score': 0.9998828, 'index': 34, 'word': 'that', 'start': 149, 'end': 153}, {'entity': 'LABEL_0', 'score': 0.9998473, 'index': 35, 'word': 'bring', 'start': 154, 'end': 159}, {'entity': 'LABEL_0', 'score': 0.99983704, 'index': 36, 'word': 'me', 'start': 160, 'end': 162}, {'entity': 'LABEL_0', 'score': 0.9998467, 'index': 37, 'word': 'joy', 'start': 163, 'end': 166}, {'entity': 'LABEL_0', 'score': 0.99982774, 'index': 38, 'word': 'and', 'start': 167, 'end': 170}, {'entity': 'LABEL_0', 'score': 0.9998323, 'index': 39, 'word': 'peace', 'start': 171, 'end': 176}, {'entity': 'LABEL_0', 'score': 0.9998802, 'index': 40, 'word': '.', 'start': 176, 'end': 177}, {'entity': 'LABEL_0', 'score': 0.9998419, 'index': 41, 'word': 'I', 'start': 178, 'end': 179}, {'entity': 'LABEL_0', 'score': 0.9998574, 'index': 42, 'word': \"'\", 'start': 179, 'end': 180}, {'entity': 'LABEL_0', 'score': 0.99987066, 'index': 43, 'word': 'll', 'start': 180, 'end': 182}, {'entity': 'LABEL_0', 'score': 0.9998703, 'index': 44, 'word': 'make', 'start': 183, 'end': 187}, {'entity': 'LABEL_0', 'score': 0.99987197, 'index': 45, 'word': 'sure', 'start': 188, 'end': 192}, {'entity': 'LABEL_0', 'score': 0.99988925, 'index': 46, 'word': 'to', 'start': 193, 'end': 195}, {'entity': 'LABEL_0', 'score': 0.99989045, 'index': 47, 'word': 'reserve', 'start': 196, 'end': 203}, {'entity': 'LABEL_0', 'score': 0.999889, 'index': 48, 'word': 'time', 'start': 204, 'end': 208}, {'entity': 'LABEL_0', 'score': 0.9998938, 'index': 49, 'word': 'for', 'start': 209, 'end': 212}, {'entity': 'LABEL_0', 'score': 0.9998691, 'index': 50, 'word': 'activities', 'start': 213, 'end': 223}, {'entity': 'LABEL_0', 'score': 0.9998728, 'index': 51, 'word': 'that', 'start': 224, 'end': 228}, {'entity': 'LABEL_0', 'score': 0.99984133, 'index': 52, 'word': 'no', 'start': 229, 'end': 231}, {'entity': 'LABEL_0', 'score': 0.9997334, 'index': 53, 'word': '##uri', 'start': 231, 'end': 234}, {'entity': 'LABEL_0', 'score': 0.99969363, 'index': 54, 'word': '##sh', 'start': 234, 'end': 236}, {'entity': 'LABEL_0', 'score': 0.99985063, 'index': 55, 'word': 'my', 'start': 237, 'end': 239}, {'entity': 'LABEL_0', 'score': 0.9997514, 'index': 56, 'word': 'mind', 'start': 240, 'end': 244}, {'entity': 'LABEL_0', 'score': 0.9996997, 'index': 57, 'word': ',', 'start': 244, 'end': 245}, {'entity': 'LABEL_0', 'score': 0.9997844, 'index': 58, 'word': 'body', 'start': 246, 'end': 250}, {'entity': 'LABEL_0', 'score': 0.9997713, 'index': 59, 'word': ',', 'start': 250, 'end': 251}, {'entity': 'LABEL_0', 'score': 0.99974054, 'index': 60, 'word': 'and', 'start': 252, 'end': 255}, {'entity': 'LABEL_0', 'score': 0.9997702, 'index': 61, 'word': 'soul', 'start': 256, 'end': 260}, {'entity': 'LABEL_0', 'score': 0.99987376, 'index': 62, 'word': '.', 'start': 260, 'end': 261}]\n",
      "I believe self-care goes beyond bubble baths and massages, Alex. It's about honoring my needs, saying no when necessary, and prioritizing activities that bring me joy and peace. I'll make sure to reserve time for activities that nourish my mind, body, and soul.\n"
     ]
    }
   ],
   "source": [
    "from transformers import pipeline\n",
    "from transformers import AutoTokenizer, AutoModelForTokenClassification\n",
    "\n",
    "# Load pre-trained DistilBERT NER model\n",
    "ner_model = pipeline(\"ner\", model=AutoModelForTokenClassification.from_pretrained(\"dslim/distilbert-NER\"), tokenizer=AutoTokenizer.from_pretrained(\"dslim/distilbert-NER\"))\n",
    "\n",
    "# text = \"Painting, Alex, has become a way for me to transcend my physical surroundings and connect with my inner self. In those moments where isolation threatened to overwhelm me, the paintbrush became a tool of connection and expression. Through colors and textures, I found a language that spoke to me deeply and allowed me to feel less alone in the world.\"\n",
    "text = \"I believe self-care goes beyond bubble baths and massages, Alex. It's about honoring my needs, saying no when necessary, and prioritizing activities that bring me joy and peace. I'll make sure to reserve time for activities that nourish my mind, body, and soul.\"\n",
    "print(ner_model)\n",
    "cleaned_text = remove_ner(text, ner_model)\n",
    "print(cleaned_text)\n",
    "\n",
    "# Sample text with named entities\n",
    "# text = \"Charlie, it means a lot to me that you're Alex willing to take this step and trust Krina in the process. I'll be here every step of the Toronto way toronto, supporting you in your healing journey. Remember, you are not alone in this. We will work together to find strength and resilience within yourself. Is there anything else on your mind that you'd like to share?\"\n",
    "\n",
    "# Identify named entities in the text\n",
    "# named_entities = ner_model(text)\n",
    "# print(named_entities)\n",
    "\n",
    "# # Remove named entities from the text\n",
    "\n",
    "# print(cleaned_text)\n"
   ]
  },
  {
   "cell_type": "code",
   "execution_count": null,
   "id": "568a5505",
   "metadata": {},
   "outputs": [],
   "source": [
    "df"
   ]
  }
 ],
 "metadata": {
  "kernelspec": {
   "display_name": "Python 3 (ipykernel)",
   "language": "python",
   "name": "python3"
  },
  "language_info": {
   "codemirror_mode": {
    "name": "ipython",
    "version": 3
   },
   "file_extension": ".py",
   "mimetype": "text/x-python",
   "name": "python",
   "nbconvert_exporter": "python",
   "pygments_lexer": "ipython3",
   "version": "3.7.9"
  }
 },
 "nbformat": 4,
 "nbformat_minor": 5
}
