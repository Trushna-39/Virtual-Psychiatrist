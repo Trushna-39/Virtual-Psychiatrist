{
 "cells": [
  {
   "cell_type": "markdown",
   "metadata": {},
   "source": [
    "#### Importing Packages"
   ]
  },
  {
   "cell_type": "code",
   "execution_count": 1,
   "metadata": {},
   "outputs": [],
   "source": [
    "import torch\n",
    "import torch.nn as nn\n",
    "from torch.utils.data import Dataset\n",
    "import torch\n",
    "from transformers import GPT2Config, GPT2LMHeadModel, GPT2Tokenizer, Trainer, TrainingArguments\n",
    "import random\n",
    "import os\n",
    "import warnings\n",
    "warnings.filterwarnings(\"ignore\")"
   ]
  },
  {
   "cell_type": "code",
   "execution_count": 2,
   "metadata": {},
   "outputs": [
    {
     "name": "stdout",
     "output_type": "stream",
     "text": [
      "Using mps device.\n"
     ]
    }
   ],
   "source": [
    "# Selecting cpu or gpu based on device\n",
    "\n",
    "device = \"cpu\"\n",
    "\n",
    "if torch.backends.mps.is_available():\n",
    "    device = \"mps\"\n",
    "elif torch.cuda.is_available():\n",
    "    device = \"cuda\"\n",
    "else:\n",
    "    device = \"cpu\"\n",
    "\n",
    "print(f\"Using {device} device.\")"
   ]
  },
  {
   "cell_type": "code",
   "execution_count": 3,
   "metadata": {},
   "outputs": [],
   "source": [
    "# Parameters\n",
    "\n",
    "N_POSITION = 1024 # 128\n",
    "\n",
    "N_CTX = 1024 # 128\n",
    "\n",
    "N_EMBD = 1024\n",
    "\n",
    "N_LAYER = 16\n",
    "\n",
    "N_HEAD = 16\n",
    "\n",
    "# SAVE_STEPS = 10_000\n",
    "\n",
    "LEARNING_RATE = 1e-6\n",
    "\n",
    "SAVE_STEPS = 100\n",
    "\n",
    "NUM_EPOCH = 1\n",
    "\n",
    "BATCH_SIZE = 4 \n",
    "\n",
    "SAVE_TOTAL_LIMIT = 1\n",
    "\n",
    "BLOCK_SIZE = 1024 \n",
    "\n",
    "OUTPUT_DIR = \"./gpt_mental_health\"\n",
    "\n",
    "INPUT_FILE = \"Train-Data.txt\"\n",
    "\n",
    "OVERWRITE_OUTPUT_DIR = True\n",
    "\n",
    "MODEL_PATH = \"Models/New_E6\"\n",
    "\n",
    "VOCAB_SIZE = 51000\n",
    "\n",
    "LAST_CHECK_POINT = None\n",
    "\n",
    "# W_B_API ='3d46c4eb36ede90bf9d2f07dbb15218d3476042a'"
   ]
  },
  {
   "cell_type": "code",
   "execution_count": 4,
   "metadata": {},
   "outputs": [
    {
     "data": {
      "text/plain": [
       "1"
      ]
     },
     "execution_count": 4,
     "metadata": {},
     "output_type": "execute_result"
    }
   ],
   "source": [
    "# Defining the gpt-2 tokenizer\n",
    "\n",
    "tokenizer = GPT2Tokenizer.from_pretrained('gpt2')\n",
    "tokenizer.add_special_tokens({'pad_token': '[PAD]'})"
   ]
  },
  {
   "cell_type": "code",
   "execution_count": 5,
   "metadata": {},
   "outputs": [],
   "source": [
    "# Dataset class to process the data for training\n",
    "\n",
    "class MentalHealthDataset(Dataset):\n",
    "    def __init__(self, tokenizer, file_path, block_size, shuffle=True):\n",
    "        self.tokenizer = tokenizer\n",
    "        self.block_size = block_size\n",
    "        self.samples = []\n",
    "        \n",
    "        with open(file_path, encoding=\"utf-8\") as f:\n",
    "            for sentence in f.readlines():\n",
    "                self.samples.append(sentence)\n",
    "            \n",
    "            if shuffle:\n",
    "                random.shuffle(self.samples)\n",
    "\n",
    "    def __len__(self):\n",
    "        return len(self.samples)\n",
    "\n",
    "    def __getitem__(self, idx):\n",
    "        tokenized_text = tokenizer(self.samples[idx] , padding=\"max_length\", truncation=True, max_length=self.block_size, return_tensors=\"pt\")\n",
    "        encoded_inputs = tokenized_text\n",
    "\n",
    "        input_ids = torch.tensor(encoded_inputs['input_ids'], dtype=torch.long)\n",
    "        attention_mask = torch.tensor(encoded_inputs['attention_mask'], dtype=torch.long)\n",
    "        \n",
    "        labels = input_ids.clone()\n",
    "\n",
    "        return {\n",
    "            \"input_ids\": input_ids,\n",
    "            \"attention_mask\": attention_mask,\n",
    "            \"labels\": labels\n",
    "        }"
   ]
  },
  {
   "cell_type": "code",
   "execution_count": 6,
   "metadata": {},
   "outputs": [],
   "source": [
    "# Initialize GPT-2 configuration\n",
    "config = GPT2Config(\n",
    "  vocab_size = VOCAB_SIZE,\n",
    "  n_positions = N_POSITION,\n",
    "  n_ctx = N_CTX,\n",
    "  n_embd = N_EMBD,\n",
    "  n_layer = N_LAYER,\n",
    "  n_head = N_HEAD,\n",
    "  learning_rate = LEARNING_RATE\n",
    ")"
   ]
  },
  {
   "cell_type": "code",
   "execution_count": 7,
   "metadata": {},
   "outputs": [],
   "source": [
    "# Initialize GPT-2 model\n",
    "if MODEL_PATH is None:\n",
    "    model = GPT2LMHeadModel(config)\n",
    "    model = model.to(device)\n",
    "else:\n",
    "    model = GPT2LMHeadModel.from_pretrained(MODEL_PATH)\n",
    "    model = model.to(device)"
   ]
  },
  {
   "cell_type": "code",
   "execution_count": 8,
   "metadata": {},
   "outputs": [
    {
     "data": {
      "text/plain": [
       "<bound method ModuleUtilsMixin.num_parameters of GPT2LMHeadModel(\n",
       "  (transformer): GPT2Model(\n",
       "    (wte): Embedding(51000, 2048)\n",
       "    (wpe): Embedding(1024, 2048)\n",
       "    (drop): Dropout(p=0.1, inplace=False)\n",
       "    (h): ModuleList(\n",
       "      (0-31): 32 x GPT2Block(\n",
       "        (ln_1): LayerNorm((2048,), eps=1e-05, elementwise_affine=True)\n",
       "        (attn): GPT2Attention(\n",
       "          (c_attn): Conv1D()\n",
       "          (c_proj): Conv1D()\n",
       "          (attn_dropout): Dropout(p=0.1, inplace=False)\n",
       "          (resid_dropout): Dropout(p=0.1, inplace=False)\n",
       "        )\n",
       "        (ln_2): LayerNorm((2048,), eps=1e-05, elementwise_affine=True)\n",
       "        (mlp): GPT2MLP(\n",
       "          (c_fc): Conv1D()\n",
       "          (c_proj): Conv1D()\n",
       "          (act): NewGELUActivation()\n",
       "          (dropout): Dropout(p=0.1, inplace=False)\n",
       "        )\n",
       "      )\n",
       "    )\n",
       "    (ln_f): LayerNorm((2048,), eps=1e-05, elementwise_affine=True)\n",
       "  )\n",
       "  (lm_head): Linear(in_features=2048, out_features=51000, bias=False)\n",
       ")>"
      ]
     },
     "execution_count": 8,
     "metadata": {},
     "output_type": "execute_result"
    }
   ],
   "source": [
    "model.num_parameters"
   ]
  },
  {
   "cell_type": "code",
   "execution_count": 9,
   "metadata": {},
   "outputs": [],
   "source": [
    "# Traing arguments to train the model\n",
    "\n",
    "training_args = TrainingArguments(\n",
    "    output_dir = OUTPUT_DIR,\n",
    "    overwrite_output_dir = OVERWRITE_OUTPUT_DIR,\n",
    "    num_train_epochs = NUM_EPOCH,\n",
    "    per_device_train_batch_size = BATCH_SIZE,\n",
    "    save_steps = SAVE_STEPS,\n",
    "    save_total_limit = SAVE_TOTAL_LIMIT,\n",
    "    use_mps_device = True\n",
    ")"
   ]
  },
  {
   "cell_type": "code",
   "execution_count": 10,
   "metadata": {},
   "outputs": [
    {
     "data": {
      "text/plain": [
       "device(type='mps')"
      ]
     },
     "execution_count": 10,
     "metadata": {},
     "output_type": "execute_result"
    }
   ],
   "source": [
    "training_args.device"
   ]
  },
  {
   "cell_type": "code",
   "execution_count": 11,
   "metadata": {},
   "outputs": [],
   "source": [
    "trainer = Trainer(\n",
    "    model = model,\n",
    "    args = training_args,\n",
    "    train_dataset = MentalHealthDataset(tokenizer, INPUT_FILE, block_size=BLOCK_SIZE, shuffle=False) \n",
    ")"
   ]
  },
  {
   "cell_type": "code",
   "execution_count": null,
   "metadata": {},
   "outputs": [],
   "source": [
    "# Starting the training\n",
    "\n",
    "if LAST_CHECK_POINT == None:\n",
    "    trainer.train()\n",
    "else:\n",
    "    trainer.train(resume_from_checkpoint = True)"
   ]
  },
  {
   "cell_type": "code",
   "execution_count": 25,
   "metadata": {},
   "outputs": [],
   "source": [
    "# Saing the model\n",
    "\n",
    "model.save_pretrained(\"./New_Model\")"
   ]
  },
  {
   "cell_type": "code",
   "execution_count": 10,
   "metadata": {},
   "outputs": [],
   "source": [
    "# Loading the saved model\n",
    "\n",
    "model = GPT2LMHeadModel.from_pretrained(\"./New_Model\").to(device)"
   ]
  },
  {
   "cell_type": "code",
   "execution_count": null,
   "metadata": {},
   "outputs": [],
   "source": []
  },
  {
   "cell_type": "code",
   "execution_count": null,
   "metadata": {},
   "outputs": [],
   "source": []
  }
 ],
 "metadata": {
  "kernelspec": {
   "display_name": "Python 3",
   "language": "python",
   "name": "python3"
  },
  "language_info": {
   "codemirror_mode": {
    "name": "ipython",
    "version": 3
   },
   "file_extension": ".py",
   "mimetype": "text/x-python",
   "name": "python",
   "nbconvert_exporter": "python",
   "pygments_lexer": "ipython3",
   "version": "3.10.13"
  }
 },
 "nbformat": 4,
 "nbformat_minor": 2
}
